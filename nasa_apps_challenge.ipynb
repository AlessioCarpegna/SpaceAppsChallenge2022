{
 "cells": [
  {
   "cell_type": "code",
   "execution_count": 89,
   "id": "fa112fd2",
   "metadata": {},
   "outputs": [],
   "source": [
    "import os\n",
    "os.environ[\"CDF_LIB\"] = \"/opt/cdf/lib\"\n",
    "from spacepy import pycdf\n",
    "import pandas as pd\n",
    "import numpy as np\n",
    "import datetime\n",
    "import seaborn as sns \n",
    "import pandas as pd\n",
    "import matplotlib.pyplot as plt\n",
    "import matplotlib.colors as colors\n",
    "import matplotlib.cm as cm\n",
    "from matplotlib.colors import LinearSegmentedColormap\n",
    "import matplotlib.patches as patches\n",
    "try:\n",
    "    from urllib2 import urlopen\n",
    "except ImportError:\n",
    "    from urllib.request import urlopen\n",
    "from io import StringIO\n",
    "import numpy as np\n",
    "import cartopy.crs as ccrs\n",
    "\n",
    "Vmin = 10**7\n",
    "Vmax = 10**13\n",
    "cmap = \"jet\"\n",
    "norm = colors.LogNorm(vmin=Vmin, vmax=Vmax)"
   ]
  },
  {
   "cell_type": "code",
   "execution_count": 90,
   "id": "499aecec",
   "metadata": {},
   "outputs": [],
   "source": [
    "def cdf_plot(cdf, name):\n",
    "    if name is None:\n",
    "        return\n",
    "    \n",
    "    X = cdf['Longitude'][:]\n",
    "    Y = cdf['Latitude'][:]\n",
    "    V = cdf['N_i'][:]\n",
    "    \n",
    "    _fig, _ax = plt.subplots()\n",
    "    _ax.scatter(X, Y, c=V,  cmap=cmap, marker='.', norm=norm)\n",
    "    _fig.colorbar(cm.ScalarMappable(norm=norm, cmap=cmap), ax=_ax)\n",
    "    _fig.savefig(name + \".png\")\n",
    "    plt.close(_fig)"
   ]
  },
  {
   "cell_type": "code",
   "execution_count": 91,
   "id": "4b6a5f6f",
   "metadata": {},
   "outputs": [],
   "source": [
    "def cdf_orthographic_plot(cdf, name):\n",
    "    if name is None:\n",
    "        return\n",
    "    \n",
    "    X = cdf['Longitude'][:]\n",
    "    Y = cdf['Latitude'][:]\n",
    "    V = cdf['N_i'][:]\n",
    "    \n",
    "    _fig = plt.figure(figsize=[15, 8])\n",
    "    _ax1 = plt.subplot(1, 2, 1, projection=ccrs.Orthographic(0, 90))\n",
    "    _ax2 = plt.subplot(1, 2, 2, projection=ccrs.Orthographic(180, -90))\n",
    "    #img, crs, extent, origin, dt = aurora_forecast()\n",
    "    crs = ccrs.PlateCarree()\n",
    "\n",
    "    for _ax in [_ax1, _ax2]:\n",
    "        _ax.coastlines(zorder=3)\n",
    "        _ax.stock_img()\n",
    "        _ax.gridlines()\n",
    "        #fill_dark_side(ax, time=dt, color='black', alpha=0.75)\n",
    "        _ax.scatter(X, Y, c=V, transform=crs,\n",
    "                  zorder=2, cmap=\"jet\", marker='.',\n",
    "                  norm=colors.LogNorm(vmin=Vmin, vmax=Vmax))\n",
    "        \n",
    "    _fig.subplots_adjust(right=0.8)\n",
    "    #_cbar_ax = _fig.add_axes([0.85, 0.15, 0.05, 0.7])\n",
    "    #_fig.colorbar(cm.ScalarMappable(norm=norm, cmap=cmap), cax=_cbar_ax) ax=axes.ravel().tolist()\n",
    "    _fig.colorbar(cm.ScalarMappable(norm=norm, cmap=cmap), ax=[_ax1, _ax2])\n",
    "    _fig.savefig(name + \"_ortho.png\")\n",
    "    plt.close(_fig)"
   ]
  },
  {
   "cell_type": "code",
   "execution_count": 101,
   "id": "67a2a251",
   "metadata": {},
   "outputs": [],
   "source": [
    "def cdf_mollweide_plot(cdf, name):\n",
    "    if name is None:\n",
    "        return\n",
    "    \n",
    "    X = cdf['Longitude'][:]\n",
    "    Y = cdf['Latitude'][:]\n",
    "    V = cdf['N_i'][:]\n",
    "    \n",
    "    _fig = plt.figure(figsize=[15, 8])\n",
    "    _ax = plt.subplot(projection=ccrs.Mollweide())\n",
    "    crs = ccrs.PlateCarree()\n",
    "\n",
    "    _ax.coastlines(zorder=3)\n",
    "    _ax.stock_img()\n",
    "    _ax.gridlines()\n",
    "    _ax.scatter(X, Y, c=V, transform=crs,\n",
    "                  zorder=2, marker='.', norm=norm, cmap=cmap)\n",
    "    _fig.colorbar(cm.ScalarMappable(norm=norm, cmap=cmap), ax=_ax)\n",
    "    _fig.savefig(name + \"_mollweide.png\")\n",
    "    plt.close(_fig)"
   ]
  },
  {
   "cell_type": "code",
   "execution_count": 102,
   "id": "6970a12f",
   "metadata": {},
   "outputs": [],
   "source": [
    "fname = \"iss_sp_fpmu_20211029_v01.cdf\"\n",
    "cdf = pycdf.CDF(fname)"
   ]
  },
  {
   "cell_type": "code",
   "execution_count": 103,
   "id": "ec815784",
   "metadata": {},
   "outputs": [],
   "source": [
    "cdf_plot(cdf, fname)"
   ]
  },
  {
   "cell_type": "code",
   "execution_count": 104,
   "id": "58227813",
   "metadata": {},
   "outputs": [],
   "source": [
    "cdf_orthographic_plot(cdf, fname)"
   ]
  },
  {
   "cell_type": "code",
   "execution_count": 105,
   "id": "e936cca8",
   "metadata": {},
   "outputs": [],
   "source": [
    "cdf_mollweide_plot(cdf, fname)"
   ]
  },
  {
   "cell_type": "code",
   "execution_count": 106,
   "id": "55ab5264",
   "metadata": {},
   "outputs": [],
   "source": [
    "cdf.close()"
   ]
  },
  {
   "cell_type": "code",
   "execution_count": 107,
   "id": "6ed386ef",
   "metadata": {},
   "outputs": [],
   "source": [
    "fnames = [#\"iss_sp_fpmu_20211029_v01.cdf\",\n",
    "          \"iss_sp_fpmu_20211030_v01.cdf\",\n",
    "          \"iss_sp_fpmu_20211031_v01.cdf\",\n",
    "          \"iss_sp_fpmu_20211101_v01.cdf\",\n",
    "          \"iss_sp_fpmu_20211102_v01.cdf\",\n",
    "          \"iss_sp_fpmu_20211103_v01.cdf\"]"
   ]
  },
  {
   "cell_type": "code",
   "execution_count": 108,
   "id": "7c7a51ec",
   "metadata": {},
   "outputs": [],
   "source": [
    "for f in fnames:\n",
    "    with pycdf.CDF(f) as data:\n",
    "        cdf_plot(data, f)\n",
    "        cdf_orthographic_plot(data, f)\n",
    "        cdf_mollweide_plot(data, f)"
   ]
  },
  {
   "cell_type": "code",
   "execution_count": 109,
   "id": "56fe9c42",
   "metadata": {},
   "outputs": [],
   "source": [
    "data = pycdf.concatCDF([pycdf.CDF(f) for f in fnames])\n",
    "cdf_plot(data, \"all\")\n",
    "cdf_orthographic_plot(data, \"all\")\n",
    "cdf_mollweide_plot(data, \"all\")\n",
    "# data.close()"
   ]
  },
  {
   "cell_type": "code",
   "execution_count": null,
   "id": "f5bd84ab",
   "metadata": {},
   "outputs": [],
   "source": []
  },
  {
   "cell_type": "code",
   "execution_count": null,
   "id": "e8f57d80",
   "metadata": {},
   "outputs": [],
   "source": []
  },
  {
   "cell_type": "code",
   "execution_count": null,
   "id": "f807313f",
   "metadata": {},
   "outputs": [],
   "source": []
  },
  {
   "cell_type": "code",
   "execution_count": null,
   "id": "1b9c4b68",
   "metadata": {},
   "outputs": [],
   "source": []
  },
  {
   "cell_type": "code",
   "execution_count": null,
   "id": "7481cc43",
   "metadata": {},
   "outputs": [],
   "source": []
  }
 ],
 "metadata": {
  "kernelspec": {
   "display_name": "Python 3 (ipykernel)",
   "language": "python",
   "name": "python3"
  },
  "language_info": {
   "codemirror_mode": {
    "name": "ipython",
    "version": 3
   },
   "file_extension": ".py",
   "mimetype": "text/x-python",
   "name": "python",
   "nbconvert_exporter": "python",
   "pygments_lexer": "ipython3",
   "version": "3.8.10"
  }
 },
 "nbformat": 4,
 "nbformat_minor": 5
}
